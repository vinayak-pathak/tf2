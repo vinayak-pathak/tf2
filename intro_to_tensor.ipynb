{
  "nbformat": 4,
  "nbformat_minor": 0,
  "metadata": {
    "colab": {
      "name": "intro_to_tensor.ipynb",
      "provenance": [],
      "authorship_tag": "ABX9TyPivZs5tvFk6+pnrxGiWLEI",
      "include_colab_link": true
    },
    "kernelspec": {
      "name": "python3",
      "display_name": "Python 3"
    }
  },
  "cells": [
    {
      "cell_type": "markdown",
      "metadata": {
        "id": "view-in-github",
        "colab_type": "text"
      },
      "source": [
        "<a href=\"https://colab.research.google.com/github/vinayak-pathak/tf2/blob/master/intro_to_tensor.ipynb\" target=\"_parent\"><img src=\"https://colab.research.google.com/assets/colab-badge.svg\" alt=\"Open In Colab\"/></a>"
      ]
    },
    {
      "cell_type": "code",
      "metadata": {
        "id": "nPM5aRvgKAOg",
        "colab_type": "code",
        "colab": {}
      },
      "source": [
        "impoer"
      ],
      "execution_count": null,
      "outputs": []
    }
  ]
}